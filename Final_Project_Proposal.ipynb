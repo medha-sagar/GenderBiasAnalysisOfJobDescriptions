{
 "cells": [
  {
   "cell_type": "markdown",
   "metadata": {
    "colab_type": "text",
    "id": "view-in-github"
   },
   "source": [
    "<a href=\"https://colab.research.google.com/github/medha-sagar/data-512-final/blob/main/Final_Project_Proposal.ipynb\" target=\"_parent\"><img src=\"https://colab.research.google.com/assets/colab-badge.svg\" alt=\"Open In Colab\"/></a>"
   ]
  },
  {
   "cell_type": "markdown",
   "metadata": {
    "id": "r1XPOjMZQni0"
   },
   "source": [
    "# Analysis of Diversity and Bias in Job Postings"
   ]
  },
  {
   "cell_type": "markdown",
   "metadata": {
    "id": "sqTIJtQfOtOx"
   },
   "source": [
    "\n",
    "## Motivation and problem statement"
   ]
  },
  {
   "cell_type": "markdown",
   "metadata": {
    "id": "plekHJaEOyNp"
   },
   "source": [
    "The content, tone, and format of job bulletins can influence the quality of the applicant pool. Overly-specific job requirements may discourage diversity. \n",
    "\n",
    "The goal is to analyze job postings to: \n",
    "- identify language that can negatively bias the pool of applicants\n",
    "- analyze the diversity and quality of the applicant pool\n",
    "\n"
   ]
  },
  {
   "cell_type": "markdown",
   "metadata": {
    "id": "RQdDsooFSVKr"
   },
   "source": [
    "## Research Questions\n",
    "\n"
   ]
  },
  {
   "cell_type": "markdown",
   "metadata": {
    "id": "CxsFd32oSZCQ"
   },
   "source": [
    "Question 1: How gendered is the language of the job descriptions of the various jobs? "
   ]
  },
  {
   "cell_type": "markdown",
   "metadata": {
    "id": "cNyPb4FgS4Zo"
   },
   "source": [
    "Question 2: What industries are more prone to using gendered words/languages in their job postings?"
   ]
  },
  {
   "cell_type": "markdown",
   "metadata": {
    "id": "WvL7EuUPTKNA"
   },
   "source": [
    "Question 3: Does having gender neutral job description get more applicants? "
   ]
  },
  {
   "cell_type": "markdown",
   "metadata": {
    "id": "o7bU4qwnTc4C"
   },
   "source": [
    "## Background Research\n"
   ]
  },
  {
   "cell_type": "markdown",
   "metadata": {
    "id": "oCRFXqUCT7e5"
   },
   "source": [
    "Source: [Harvard Business Review](https://www.hbs.edu/recruiting/blog/post/simple-ways-to-take-gender-bias-out-of-your-jobs)"
   ]
  },
  {
   "cell_type": "markdown",
   "metadata": {
    "id": "2lmHPqmRURFQ"
   },
   "source": [
    "Use of gendered language can deter certain applicants from applying to job postings. A few years ago, social scientists at the University of Waterloo and Duke University coded a long list of adjectives and verbs as masculine or feminine then scanned a popular job site to look for those words. They found (pdf) that job ads in male-dominated fields (like software programming) tended to use masculine-coded words such as “competitive” and “dominate” much more than job ads in female-dominated fields. Follow-up research confirmed such words made those job listings less appealing to women."
   ]
  },
  {
   "cell_type": "markdown",
   "metadata": {
    "id": "WrRGteeZUstU"
   },
   "source": [
    "Souce: [Textio Blog on Harmful Writing in Hiring Content](https://textio.com/blog/avoiding-harmful-language-in-hiring-content/34152146534)"
   ]
  },
  {
   "cell_type": "markdown",
   "metadata": {
    "id": "x5JofECWVLah"
   },
   "source": [
    "Hiring content sometimes contains inadvertant use of harmful language. One example is using the term **minorities** to refer to **non-white** racial and ethnic groups collectively. This term can be degrading because it is typically associated with deficiency and inferiority. Instead of using minorities, which is also simply inaccurate in many contexts, consider using **people of color** or **underrepresented** groups."
   ]
  },
  {
   "cell_type": "markdown",
   "metadata": {
    "id": "wyjT9q-RVrUs"
   },
   "source": [
    "According to this [LinkedIn post](https://business.linkedin.com/talent-solutions/blog/job-descriptions/2018/5-must-dos-for-writing-inclusive-job-descriptions), an ideal inclusive job description contains the following attributes:\n",
    "\n",
    "- Avoid gender-coded words, like “rockstar,” “ninja,” and “dominate”\n",
    "- Limit your job requirements to “must-haves”\n",
    "- Avoid using unnecessary corporate speak and jargon\n",
    "- Emphasize your company’s commitment to diversity and inclusion\n",
    "- Call out inclusive benefits like parental leave and childcare subsidies"
   ]
  },
  {
   "cell_type": "markdown",
   "metadata": {
    "id": "1XZmwKupWQ97"
   },
   "source": [
    "## Methodologies"
   ]
  },
  {
   "cell_type": "markdown",
   "metadata": {
    "id": "aUvN0WwrWkIa"
   },
   "source": [
    "The first question can be done by analyzing the corpus and finding the number of genderered keywords in the job descriptions. Continuing with the second questio, we can repeat the same analysis over different indutries to find out what industries have more prevalence of using biased language in their hiring content. "
   ]
  },
  {
   "cell_type": "markdown",
   "metadata": {
    "id": "UYzWZN5dWk3X"
   },
   "source": [
    "Lastly, I will try to do a hypothesis test to find out whether having bias free language in hiring content attracts more applicants or not. I would be doing a t-test for this experiment. I might even go for some linear regression modelling depending on my results from the first test."
   ]
  },
  {
   "cell_type": "code",
   "execution_count": null,
   "metadata": {
    "id": "jSKEkfJlXmoP"
   },
   "outputs": [],
   "source": []
  }
 ],
 "metadata": {
  "colab": {
   "authorship_tag": "ABX9TyMOFsvqPXCDUOUQPKoHs5uE",
   "include_colab_link": true,
   "name": "Final Project Proposal",
   "provenance": []
  },
  "kernelspec": {
   "display_name": "Python 3",
   "language": "python",
   "name": "python3"
  },
  "language_info": {
   "codemirror_mode": {
    "name": "ipython",
    "version": 3
   },
   "file_extension": ".py",
   "mimetype": "text/x-python",
   "name": "python",
   "nbconvert_exporter": "python",
   "pygments_lexer": "ipython3",
   "version": "3.7.3"
  }
 },
 "nbformat": 4,
 "nbformat_minor": 1
}
