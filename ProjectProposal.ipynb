{
 "cells": [
  {
   "cell_type": "markdown",
   "metadata": {},
   "source": [
    "# Motivation and problem statement"
   ]
  },
  {
   "cell_type": "markdown",
   "metadata": {},
   "source": [
    "The content, tone, and format of job bulletins can influence the quality of the applicant pool. Overly-specific job requirements may discourage diversity. \n",
    "The Los Angeles Mayor’s Office has provided data for a Kaggle Competition to identify improvements needed in hiring process.\n",
    "\n"
   ]
  },
  {
   "cell_type": "markdown",
   "metadata": {},
   "source": [
    "\n",
    "The goal is to analyze job postings to: \n",
    "- identify language that can negatively bias the pool of applicants\n",
    "- analyze the diversity and quality of the applicant pool\n"
   ]
  },
  {
   "cell_type": "markdown",
   "metadata": {},
   "source": [
    "The rationale behind choosing this project was to understand how gender neutral job postings are in general. I thougt it would be interesting to do a Content, Tone and Language analysis of these job postings."
   ]
  },
  {
   "cell_type": "markdown",
   "metadata": {},
   "source": [
    "I also wanted to undestand if job postings deter diversity. I do not have a clear way to asses this question but I think I can do some analysis to find factors assessing diversity. "
   ]
  },
  {
   "cell_type": "markdown",
   "metadata": {},
   "source": [
    "# Data selected for analysis"
   ]
  },
  {
   "cell_type": "markdown",
   "metadata": {},
   "source": [
    "Source: https://www.kaggle.com/c/data-science-for-good-city-of-los-angeles/data"
   ]
  },
  {
   "cell_type": "markdown",
   "metadata": {},
   "source": [
    "The job bulletins will be provided as a folder of plain-text files, one for each job classification.\n",
    "\n",
    "Job Bulletins [Folder]\n",
    "\n",
    "- 683 plain-text job postings\n",
    "\n",
    "Instructions and Additional Documents [Folder]\n",
    "\n",
    "- Job Bulletins with Annotations\n",
    "- Annotation Descriptions.docx\n",
    "- City Job Paths\n",
    "- PDFs\n",
    "- Description of promotions in job bulletins.docx\n",
    "- Job_titles.csv\n",
    "- Kaggle_data_dictionary.csv\n",
    "- Sample job class export template.csv"
   ]
  },
  {
   "cell_type": "markdown",
   "metadata": {},
   "source": [
    "The rules of the competition state that transmission of data is illegal without agreeing to the consent form on Kaggle, therefore, I do not think I will be able to put the data in the repository. "
   ]
  },
  {
   "cell_type": "markdown",
   "metadata": {},
   "source": [
    "# Unknowns and dependencies"
   ]
  },
  {
   "cell_type": "markdown",
   "metadata": {},
   "source": [
    "No. I believe I have everything to do the analysis. "
   ]
  },
  {
   "cell_type": "code",
   "execution_count": null,
   "metadata": {},
   "outputs": [],
   "source": []
  }
 ],
 "metadata": {
  "kernelspec": {
   "display_name": "Python 3",
   "language": "python",
   "name": "python3"
  },
  "language_info": {
   "codemirror_mode": {
    "name": "ipython",
    "version": 3
   },
   "file_extension": ".py",
   "mimetype": "text/x-python",
   "name": "python",
   "nbconvert_exporter": "python",
   "pygments_lexer": "ipython3",
   "version": "3.7.4"
  }
 },
 "nbformat": 4,
 "nbformat_minor": 4
}
